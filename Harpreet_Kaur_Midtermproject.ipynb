{
 "cells": [
  {
   "cell_type": "markdown",
   "metadata": {},
   "source": [
    "# Part 1 Data Preparation"
   ]
  },
  {
   "cell_type": "code",
   "execution_count": 29,
   "metadata": {},
   "outputs": [],
   "source": [
    "import pandas as pd\n",
    "import numpy as np"
   ]
  },
  {
   "cell_type": "code",
   "execution_count": 9,
   "metadata": {},
   "outputs": [],
   "source": [
    "homepage = pd.read_csv(\"homepage.csv\")   \n",
    "searchpage = pd.read_csv(\"searchpage.csv\")\n",
    "Payconf =pd.read_csv(\"payconf.csv\")\n",
    "Users = pd.read_csv(\"users.csv\")\n",
    "Paypage = pd.read_csv(\"paypage.csv\")"
   ]
  },
  {
   "cell_type": "code",
   "execution_count": 10,
   "metadata": {},
   "outputs": [
    {
     "name": "stdout",
     "output_type": "stream",
     "text": [
      "Homepage Data:\n",
      "   user_id       page\n",
      "0   313593  home_page\n",
      "1   468315  home_page\n",
      "2   264005  home_page\n",
      "3   290784  home_page\n",
      "4   639104  home_page\n"
     ]
    }
   ],
   "source": [
    "print(\"Homepage Data:\")\n",
    "print(homepage.head())"
   ]
  },
  {
   "cell_type": "code",
   "execution_count": 11,
   "metadata": {},
   "outputs": [
    {
     "name": "stdout",
     "output_type": "stream",
     "text": [
      "\n",
      "Search Page Data:\n",
      "   user_id         page\n",
      "0    15866  search_page\n",
      "1   347058  search_page\n",
      "2   577020  search_page\n",
      "3   780347  search_page\n",
      "4   383739  search_page\n"
     ]
    }
   ],
   "source": [
    "print(\"\\nSearch Page Data:\")\n",
    "print(searchpage.head())"
   ]
  },
  {
   "cell_type": "code",
   "execution_count": 13,
   "metadata": {},
   "outputs": [
    {
     "name": "stdout",
     "output_type": "stream",
     "text": [
      "\n",
      "Paywall Page Data:\n",
      "   user_id          page\n",
      "0   253019  payment_page\n",
      "1   310478  payment_page\n",
      "2   304081  payment_page\n",
      "3   901286  payment_page\n",
      "4   195052  payment_page\n"
     ]
    }
   ],
   "source": [
    "\n",
    "print(\"\\nPaywall Page Data:\")\n",
    "print(Paypage.head())"
   ]
  },
  {
   "cell_type": "code",
   "execution_count": 15,
   "metadata": {},
   "outputs": [
    {
     "name": "stdout",
     "output_type": "stream",
     "text": [
      "\n",
      "Payment Confirmation Data:\n",
      "   user_id                       page\n",
      "0   123100  payment_confirmation_page\n",
      "1   704999  payment_confirmation_page\n",
      "2   407188  payment_confirmation_page\n",
      "3   538348  payment_confirmation_page\n",
      "4   841681  payment_confirmation_page\n"
     ]
    }
   ],
   "source": [
    "print(\"\\nPayment Confirmation Data:\")\n",
    "print(Payconf.head())"
   ]
  },
  {
   "cell_type": "code",
   "execution_count": 17,
   "metadata": {},
   "outputs": [
    {
     "name": "stdout",
     "output_type": "stream",
     "text": [
      "\n",
      "Users Data:\n",
      "   user_id        date   device     sex\n",
      "0   450007  2015-02-28  Desktop  Female\n",
      "1   756838  2015-01-13  Desktop    Male\n",
      "2   568983  2015-04-09  Desktop    Male\n",
      "3   190794  2015-02-18  Desktop  Female\n",
      "4   537909  2015-01-15  Desktop    Male\n"
     ]
    }
   ],
   "source": [
    "print(\"\\nUsers Data:\")\n",
    "print(Users.head())"
   ]
  },
  {
   "cell_type": "code",
   "execution_count": 23,
   "metadata": {},
   "outputs": [
    {
     "name": "stdout",
     "output_type": "stream",
     "text": [
      "Index(['user_id', 'date', 'device', 'sex'], dtype='object')\n",
      "Index(['user_id', 'page'], dtype='object')\n",
      "Index(['user_id', 'page'], dtype='object')\n",
      "Index(['user_id', 'page'], dtype='object')\n",
      "Index(['user_id', 'page'], dtype='object')\n"
     ]
    }
   ],
   "source": [
    "print(Users.columns)\n",
    "print(homepage.columns)\n",
    "print(searchpage.columns)\n",
    "print(Paypage.columns)\n",
    "print(Payconf.columns)"
   ]
  },
  {
   "cell_type": "code",
   "execution_count": null,
   "metadata": {},
   "outputs": [],
   "source": [
    "length = len(Users)\n",
    "k = np.random.binomial(1, 0.495, length)  \n",
    "Users['group'] = k\n",
    "Users['group'] = Users['group'].replace(0, 'Control')\n",
    "Users['group'] = Users['group'].replace(1, 'Test')"
   ]
  },
  {
   "cell_type": "code",
   "execution_count": 39,
   "metadata": {},
   "outputs": [],
   "source": [
    "df = Users.merge(homepage, on='user_id', how='left', suffixes=('_home', '')) \\\n",
    "          .merge(searchpage, on='user_id', how='left', suffixes=('_search', '')) \\\n",
    "          .merge(Paypage, on='user_id', how='left', suffixes=('_pay', '')) \\\n",
    "          .merge(Payconf, on='user_id', how='left', suffixes=('_conf', ''))\n"
   ]
  },
  {
   "cell_type": "code",
   "execution_count": 44,
   "metadata": {},
   "outputs": [
    {
     "name": "stdout",
     "output_type": "stream",
     "text": [
      "Index(['user_id', 'date', 'device', 'sex', 'group', 'page_search', 'page_pay',\n",
      "       'page_conf', 'page'],\n",
      "      dtype='object')\n"
     ]
    }
   ],
   "source": [
    "print(df.columns)"
   ]
  },
  {
   "cell_type": "code",
   "execution_count": null,
   "metadata": {},
   "outputs": [
    {
     "name": "stdout",
     "output_type": "stream",
     "text": [
      "group\n",
      "Control    45583\n",
      "Test       44817\n",
      "Name: converted, dtype: int64\n"
     ]
    }
   ],
   "source": [
    "df['converted'] = df['page_pay'].notna().astype(int)\n",
    "\n",
    "\n",
    "summary = df.groupby('group')['converted'].count()\n",
    "print(summary)"
   ]
  },
  {
   "cell_type": "markdown",
   "metadata": {},
   "source": [
    "# ✅ Deliverables for part 1 : A brief description of data preparation and a summary table of users in each group."
   ]
  },
  {
   "cell_type": "markdown",
   "metadata": {},
   "source": [
    "# Part 2: Exploratory Data Analysis"
   ]
  },
  {
   "cell_type": "code",
   "execution_count": 46,
   "metadata": {},
   "outputs": [],
   "source": [
    "import matplotlib.pyplot as plt\n",
    "conversion_rates = df.groupby('group')['converted'].mean()"
   ]
  },
  {
   "cell_type": "code",
   "execution_count": 47,
   "metadata": {},
   "outputs": [
    {
     "data": {
      "image/png": "[encoded data removed]",
      "text/plain": [
       "<Figure size 640x480 with 1 Axes>"
      ]
     },
     "metadata": {},
     "output_type": "display_data"
    }
   ],
   "source": [
    "plt.bar(conversion_rates.index, conversion_rates.values, color=['blue', 'orange'])\n",
    "plt.xlabel('Group')\n",
    "plt.ylabel('Conversion Rate')\n",
    "plt.title('Conversion Rate by Group')\n",
    "plt.show()\n"
   ]
  },
  {
   "cell_type": "code",
   "execution_count": 48,
   "metadata": {},
   "outputs": [
    {
     "name": "stdout",
     "output_type": "stream",
     "text": [
      "device    Desktop    Mobile\n",
      "group                      \n",
      "Control  0.500446  0.496273\n",
      "Test     0.499549  0.503823\n"
     ]
    }
   ],
   "source": [
    "device_counts = df.groupby(['group', 'device'])['converted'].mean().unstack()\n",
    "print(device_counts)"
   ]
  },
  {
   "cell_type": "markdown",
   "metadata": {},
   "source": [
    " # Deliverables for part 2 :\n",
    "            1 -A bar plot showing conversion rates.\n",
    " \n",
    "            2 -A summary of key insights (e.g., any potential biases in device usage)"
   ]
  },
  {
   "cell_type": "markdown",
   "metadata": {},
   "source": [
    "# Part 3: Statistical Hypothesis Testing "
   ]
  },
  {
   "cell_type": "markdown",
   "metadata": {},
   "source": [
    "# We define our hypotheses as follows:\n",
    "\n",
    "                    Null Hypothesis (H₀): The conversion rates of the control and treatment groups are equal.\n",
    "                    Alternative Hypothesis (H₁): The conversion rate of the treatment group is higher than the control group.\n"
   ]
  },
  {
   "cell_type": "markdown",
   "metadata": {},
   "source": [
    "# Since we are testing whether the treatment group has a higher conversion rate, this is a one-tailed test."
   ]
  },
  {
   "cell_type": "markdown",
   "metadata": {},
   "source": [
    "# I choose the two-proportion z-test because:\n",
    "\n",
    "                1 - The dependent variable (conversion) is binary (converted = 1, not converted = 0).\n",
    "                2 - We are comparing proportions from two independent groups (control and treatment).\n",
    "                3 - The sample size is sufficiently large, allowing us to use the normal approximation for hypothesis testing."
   ]
  },
  {
   "cell_type": "code",
   "execution_count": 49,
   "metadata": {},
   "outputs": [],
   "source": [
    "import scipy.stats as stats"
   ]
  },
  {
   "cell_type": "markdown",
   "metadata": {},
   "source": [
    "# Step 1: Compute Proportions and Sample Sizes"
   ]
  },
  {
   "cell_type": "code",
   "execution_count": 50,
   "metadata": {},
   "outputs": [],
   "source": [
    "# Conversion rates for Control and Test groups\n",
    "control_conversions = df[df['group'] == 'Control']['converted'].sum()\n",
    "test_conversions = df[df['group'] == 'Test']['converted'].sum()\n",
    "\n",
    "control_count = df[df['group'] == 'Control']['converted'].count()\n",
    "test_count = df[df['group'] == 'Test']['converted'].count()\n"
   ]
  },
  {
   "cell_type": "code",
   "execution_count": 51,
   "metadata": {},
   "outputs": [],
   "source": [
    "# Calculate proportions\n",
    "p_control = control_conversions / control_count\n",
    "p_test = test_conversions / test_count\n",
    "\n",
    "# Calculate pooled proportion\n",
    "p_pooled = (control_conversions + test_conversions) / (control_count + test_count)\n"
   ]
  },
  {
   "cell_type": "markdown",
   "metadata": {},
   "source": [
    "# Step 2: Compute the Test Statistic (Z-score) "
   ]
  },
  {
   "cell_type": "code",
   "execution_count": 54,
   "metadata": {},
   "outputs": [],
   "source": [
    "# Standard error of the difference in proportions\n",
    "se = (p_pooled * (1 - p_pooled) * (1 / control_count + 1 / test_count)) ** 0.5\n",
    "\n",
    "# Z-score calculation\n",
    "z = (p_test - p_control) / se"
   ]
  },
  {
   "cell_type": "markdown",
   "metadata": {},
   "source": [
    "# Step 3: Compute the P-value\n",
    "Since this is a one-tailed test, we calculate the probability of observing a Z-score as large as or larger than our computed Z-score.\n",
    "The p-value is obtained from the standard normal distribution.\n"
   ]
  },
  {
   "cell_type": "code",
   "execution_count": null,
   "metadata": {},
   "outputs": [
    {
     "name": "stdout",
     "output_type": "stream",
     "text": [
      "Z-score: 0.5787361683780776\n",
      "P-value: 0.28138360368309345\n"
     ]
    }
   ],
   "source": [
    "\n",
    "\n",
    "# One-tailed p-value (since we are testing if Test group has a higher conversion rate)\n",
    "p_value = 1 - stats.norm.cdf(z)\n",
    "\n",
    "# Print results\n",
    "print(f\"Z-score: {z}\")\n",
    "print(f\"P-value: {p_value}\")\n",
    "\n",
    "# Compare with alpha (e.g., 0.05)\n",
    "alpha = 0.05"
   ]
  },
  {
   "cell_type": "markdown",
   "metadata": {},
   "source": [
    "# Step 4: Reporting the Results"
   ]
  },
  {
   "cell_type": "code",
   "execution_count": 53,
   "metadata": {},
   "outputs": [
    {
     "name": "stdout",
     "output_type": "stream",
     "text": [
      "Fail to reject H₀: There is no significant evidence to suggest the Test group has a higher conversion rate.\n"
     ]
    }
   ],
   "source": [
    "if p_value < alpha:\n",
    "    print(\"Reject H₀: There is significant evidence that the Test group has a higher conversion rate.\")\n",
    "else:\n",
    "    print(\"Fail to reject H₀: There is no significant evidence to suggest the Test group has a higher conversion rate.\")\n"
   ]
  },
  {
   "cell_type": "markdown",
   "metadata": {},
   "source": [
    "# Conclusion : \n",
    "                * Since the p-value (0.2814) is greater than the significance level 𝛼 =0.05, we fail to reject the null hypothesis (H₀).\n",
    "                * This means that we do not have enough statistical evidence to conclude that the treatment group’s conversion rate is significantly higher than the control group’s.\n",
    "                \n",
    "Final Decision: There is no statistically significant improvement in conversion rates in the treatment group. Further analysis or additional testing may be required to draw stronger conclusions."
   ]
  },
  {
   "cell_type": "markdown",
   "metadata": {},
   "source": [
    "# Deliverable for Part 3 : A section detailing your hypothesis, test choice, calculations, and conclusion."
   ]
  },
  {
   "cell_type": "markdown",
   "metadata": {},
   "source": [
    "# Part 4: Interpretation and Discussion\n",
    "\n",
    " 1 - If the p-value is less than the significance level (e.g., 0.05), you reject the null hypothesis and conclude that the Test group has a significantly higher conversion rate than the Control group.\n",
    "#If the p-value is greater than or equal to the significance level, you fail to reject the null hypothesis, meaning you don't have enough evidence to claim that the Test group has a higher conversion rate."
   ]
  },
  {
   "cell_type": "markdown",
   "metadata": {},
   "source": [
    "The p-value obtained from the hypothesis test is 0.2814 (approximately 28.14%). In most A/B testing scenarios, a significance level (α) of 0.05 (5%) is used as the threshold for rejecting the null hypothesis (H₀).\n",
    "\n",
    "Since 0.2814 > 0.05, we fail to reject the null hypothesis (H₀). This means that the observed difference in conversion rates between the Control and Test groups is not statistically significant. There is no strong evidence to suggest that the Test group has a higher conversion rate than the Control group."
   ]
  },
  {
   "cell_type": "markdown",
   "metadata": {},
   "source": [
    "# Is it practically significant?\n",
    "Even if a difference were statistically significant, it is important to assess whether it is large enough to be meaningful in a business context. In this case, since the difference is not statistically significant, it is unlikely to be practically significant.\n",
    "\n",
    "If the Test group’s conversion rate is only slightly higher but does not lead to a meaningful increase in revenue, engagement, or other key business metrics, implementing changes based on this test may not be justified."
   ]
  },
  {
   "cell_type": "markdown",
   "metadata": {},
   "source": [
    "# Discussion of Potential Limitations"
   ]
  },
  {
   "cell_type": "markdown",
   "metadata": {},
   "source": [
    "# Could randomness have been violated?\n",
    "Random assignment is essential to ensure that the results are not biased by external factors. If there was an issue with how users were assigned to the Test and Control groups (e.g., biased sampling, non-random selection), it could affect the validity of the results.\n",
    "\n",
    "Solution: Ensure proper randomization when assigning users to groups, possibly using stratified randomization to balance key characteristics (e.g., device type, geographic location)."
   ]
  },
  {
   "cell_type": "markdown",
   "metadata": {},
   "source": [
    "# Are there confounding variables (e.g., device type, time of day)?\n",
    "Confounding variables are factors that may have influenced conversion rates independently of the experimental change. For example:\n",
    "\n",
    "                    1 -Different device types (mobile vs. desktop) could lead to different conversion behaviors.\n",
    "                    2 -Time of day or day of the week could affect user behavior.\n",
    "                    3 -User demographics (age, region, previous interactions with the platform) might have played a role.\n",
    "\n",
    "Solution: Conduct a more granular analysis by segmenting users based on device type, time of day, or other relevant characteristics to identify potential patterns.\n",
    "\n",
    "# Are there network effects?\n",
    "If users influence each other’s behavior (e.g., through word of mouth, social media, or referral programs), then the observed conversion rates might not be independent. If the Test group interacted more with each other than the Control group did, this could have affected the results.\n",
    "#Solution: Try to isolate the groups to minimize the possibility of indirect influence.\n",
    "\n",
    "\n"
   ]
  },
  {
   "cell_type": "markdown",
   "metadata": {},
   "source": [
    "# Suggest one additional analysis or experiment to improve confidence in your  Findings.\n",
    "\n",
    "# Increase the Sample Size: \n",
    "             The current sample size may not be large enough to detect small but meaningful differences. A larger sample size would reduce variability and improve the statistical power of the test, making it easier to identify real effects.\n",
    "\n",
    "# Conduct a More Granular Analysis\n",
    "            Instead of only comparing overall conversion rates, we can:\n",
    "                1 - Analyze conversions by device type, region, or other user attributes.\n",
    "                2 - Investigate time-based trends to see if conversion rates vary by time of day or day of the week.\n",
    "\n",
    "# Run a Longer Experiment:      \n",
    "             If external factors (e.g., seasonal effects, special promotions) influenced the test period, running the experiment for a longer duration could help ensure that results are more representative of typical user behavior.\n",
    "\n",
    "# Use an Alternative Statistical Test:\n",
    "            Since the Z-test assumes a normal distribution, if the data is skewed or does not meet normality assumptions, using a non-parametric test (e.g., the Mann-Whitney U test) or Bayesian analysis might provide more insights."
   ]
  },
  {
   "cell_type": "markdown",
   "metadata": {},
   "source": [
    "# Part 5 Recommendations"
   ]
  },
  {
   "cell_type": "markdown",
   "metadata": {},
   "source": [
    "Since the p-value is greater than 0.05, we do not have enough evidence to conclude that the treatment paywall improves conversion rates.\n",
    "\n",
    "There are three options:\n",
    "\n",
    "            1 -Adopt the treatment paywall – only if there are non-statistical reasons (e.g., user experience improvements).\n",
    "            2 -mStick with the control – since there is no proven benefit to switching.\n",
    "            3 - Gather more data – if the sample size was small or external factors may have influenced results.\n",
    "            \n",
    "Recommendation: Given the current analysis, we recommend gathering more data before making a final decision. The lack of statistical significance suggests that the treatment paywall does not outperform the control, but external factors (e.g., different user behaviors, seasonal trends) could influence results. A larger sample size or additional A/B tests could provide clearer insights."
   ]
  },
  {
   "cell_type": "markdown",
   "metadata": {},
   "source": [
    "# My recommendation to gather more data is based on the following evidence:\n",
    "\n",
    "1 - Lack of Statistical Significance:\n",
    "\n",
    "            * The p-value (0.2814) is much higher than the significance level (α = 0.05), meaning we fail to reject the null hypothesis.\n",
    "            * This suggests that the observed difference in conversion rates between the control and treatment groups could be due to random variation rather than a real effect.\n",
    "\n",
    "2 -Small Effect Size and Practical Significance:\n",
    "\n",
    "            * Even if there were a small difference in conversion rates, it may not be practically meaningful.\n",
    "            * Business decisions should be driven not just by statistical results but by whether the change has a meaningful impact on revenue or user experience.\n",
    "\n",
    "3 -Potential Data Limitations:\n",
    "\n",
    "            * If the sample size is not large enough, the test may lack statistical power to detect a real difference.\n",
    "            * External factors, such as seasonality, marketing campaigns, or user demographics, may have influenced the results, requiring further investigation.\n",
    "\n",
    "4 -Alternative Hypothesis Not Supported:\n",
    "\n",
    "            * The test was designed to determine whether the treatment paywall leads to higher conversion rates. Since we failed to find evidence supporting this, switching to the new paywall could introduce unnecessary risk without a clear benefit.\n",
    "            \n",
    "# My Recommendation :\n",
    "\n",
    "            * Running the experiment for a longer period or increasing the sample size.\n",
    "            * Segmenting data by device type, geographic region, and user behavior to check for confounding factors.\n",
    "            * Exploring qualitative feedback from users to understand why conversions did not improve.\n",
    "\n",
    "Until stronger evidence emerges, it is premature to adopt the treatment paywall, and we should continue testing before making a final decision."
   ]
  },
  {
   "cell_type": "markdown",
   "metadata": {},
   "source": [
    "                                                                                                Thank you\n",
    "                                                                                                Harpreet Kaur\n",
    "                                                                                                Student id -131730"
   ]
  }
 ],
 "metadata": {
  "kernelspec": {
   "display_name": "Python 3",
   "language": "python",
   "name": "python3"
  },
  "language_info": {
   "codemirror_mode": {
    "name": "ipython",
    "version": 3
   },
   "file_extension": ".py",
   "mimetype": "text/x-python",
   "name": "python",
   "nbconvert_exporter": "python",
   "pygments_lexer": "ipython3",
   "version": "3.12.3"
  }
 },
 "nbformat": 4,
 "nbformat_minor": 2
}
